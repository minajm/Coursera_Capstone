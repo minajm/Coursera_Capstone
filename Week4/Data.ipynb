{
 "cells": [
  {
   "cell_type": "markdown",
   "metadata": {},
   "source": [
    "# Capstone Project - The Battle of Neighborhoods (Week 1)\n",
    "#### Applied Data Science Capstone by IBM/Coursera"
   ]
  },
  {
   "cell_type": "markdown",
   "metadata": {},
   "source": [
    "## Data"
   ]
  },
  {
   "cell_type": "markdown",
   "metadata": {},
   "source": [
    "### Data Descriotion"
   ]
  },
  {
   "cell_type": "markdown",
   "metadata": {},
   "source": [
    "The decision would be infected by some factores based on the problem defination:\n",
    "1. The total crimes number per borough in 2016 year.\n",
    "2. The most common venues per neighborhood in the safest borough that was selected."
   ]
  },
  {
   "cell_type": "markdown",
   "metadata": {},
   "source": [
    "#### Three dataset would be used for this project:"
   ]
  },
  {
   "cell_type": "markdown",
   "metadata": {},
   "source": [
    "##### First Dataset\n",
    "\n",
    "https://www.kaggle.com/jboysen/london-crime\n",
    "<br>\"London crime data\" that shows the crime per borough in London. This dataset contains the following columns:\n",
    "        \n",
    "* lsoa_code: code for Lower Super Output Area in Greater London.\n",
    "* lsoa_code: code for Lower Super Output Area in Greater London.\n",
    "* orough: Common name for London borough.\n",
    "* major_category: High level categorization of crime\n",
    "* minor_category: Low level categorization of crime within major category.\n",
    "* value: monthly reported count of categorical crime in given borough\n",
    "* year: Year of reported counts, 2008-2016\n",
    "* month: Month of reported counts, 1-12"
   ]
  },
  {
   "cell_type": "markdown",
   "metadata": {},
   "source": [
    "##### Second Dataset\n",
    "\n",
    "https://en.wikipedia.org/wiki/List_of_London_boroughs\n",
    "<br>\"wikipedia \" that contains the list of London boroughs and the boroughs information. This dataset contains the following columns:\n",
    "        \n",
    "* Borough: The names of the 33 London boroughs.\n",
    "* Inner: Categorizing the borough as an Inner London borough or an Outer London Borough.\n",
    "* Status: Categorizing the borough as Royal, City or other borough.\n",
    "* Local authority: The local authority assigned to the borough.\n",
    "* Political control: The political party that control the borough.\n",
    "* Headquarters: Headquarters of the Boroughs.\n",
    "* Area (sq mi): Area of the borough in square miles.\n",
    "* Population (2013 est): The population in the borough recorded during the year\n",
    "2013.\n",
    "* Co-ordinates: The latitude and longitude of the boroughs.\n",
    "* Nr. in map: The number assigned to each borough to represent visually on a map.\n"
   ]
  },
  {
   "cell_type": "markdown",
   "metadata": {},
   "source": [
    "##### Third Dataset\n",
    "\n",
    "https://en.wikipedia.org/wiki/List_of_districts_in_the_Royal_Borough_of_Kingston_upon_Thames\n",
    "<br>This dataset was created from scratch using the list of neighborhood available on the wikipedia site. This dataset contains the following columns:\n",
    "* Neighborhood: Name of the neighborhood in the Borough.\n",
    "* Borough: Name of the Borough.\n",
    "* Latitude: Latitude of the Borough.\n",
    "* Longitude: Longitude of the Borough."
   ]
  },
  {
   "cell_type": "markdown",
   "metadata": {},
   "source": [
    "### Data Cleaning"
   ]
  },
  {
   "cell_type": "markdown",
   "metadata": {},
   "source": [
    "##### First Dataset"
   ]
  },
  {
   "cell_type": "markdown",
   "metadata": {},
   "source": [
    "From the London crime dataset, the crimes during the 2016 which is the last recent year in this dataset was selected. The major categories of crime are pivoted to get the total crimes per borough as per the category."
   ]
  },
  {
   "cell_type": "markdown",
   "metadata": {},
   "source": [
    "##### Second Dataset"
   ]
  },
  {
   "cell_type": "markdown",
   "metadata": {},
   "source": [
    "This dataset is come from a wikipedia page that the \"Beautiful Soup\" library in python was used. \n",
    "The \"Beautiful Soup\" library can extracted the data in the tabular format. After the web scraping, string manipulation is required to get the names of the boroughs in the correct form. This is important for merging two datasets by using the Borough names."
   ]
  },
  {
   "cell_type": "markdown",
   "metadata": {},
   "source": [
    "After the two datasets are merged on the Borough names to a new dataset. The purpose of this new dataset is to visualize the crime rates in each borough and identify the borough with the least crimes recorded in the year 2016."
   ]
  },
  {
   "cell_type": "markdown",
   "metadata": {},
   "source": [
    "##### Third Dataset"
   ]
  },
  {
   "cell_type": "markdown",
   "metadata": {},
   "source": [
    "After visualizing the crime in each borough it would be shown the borough with the lowest crime rate and hence tag that borough as the safest borough. \n",
    "The third dataset is acquired from the list of neighborhoods in the safest borough on wikipedia. \n",
    "This dataset is created from scratch, the pandas data frame is created with the names of the neighborhoods and the name of the borough with the latitude and longitude are left blank."
   ]
  },
  {
   "cell_type": "markdown",
   "metadata": {},
   "source": [
    "The coordinates of the neighborhoods is be obtained using \"Google Maps API geocoding\" to get the final dataset"
   ]
  },
  {
   "cell_type": "markdown",
   "metadata": {},
   "source": [
    "This dataset would be used to generate the venues per neighborhood by using the Foursquare API."
   ]
  },
  {
   "cell_type": "code",
   "execution_count": null,
   "metadata": {},
   "outputs": [],
   "source": []
  }
 ],
 "metadata": {
  "kernelspec": {
   "display_name": "Python 3",
   "language": "python",
   "name": "python3"
  },
  "language_info": {
   "codemirror_mode": {
    "name": "ipython",
    "version": 3
   },
   "file_extension": ".py",
   "mimetype": "text/x-python",
   "name": "python",
   "nbconvert_exporter": "python",
   "pygments_lexer": "ipython3",
   "version": "3.8.3"
  }
 },
 "nbformat": 4,
 "nbformat_minor": 4
}
